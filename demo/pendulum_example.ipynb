{
 "cells": [
  {
   "cell_type": "markdown",
   "metadata": {
    "pycharm": {
     "name": "#%% md\n"
    }
   },
   "source": [
    "# DISCO Inverted Pendulum Example\n",
    "\n",
    "This is a simple example of how to run DISCO on the Pendulum environment of\n",
    "OpenAI Gym. We'll run 5 different experiments: the vanilla MPPI with access to\n",
    "the ground truth system parameters; DISCO performing Monte-Carlo sampling on a\n",
    "prior and later a posterior distribution over some uncertain parameters; and\n",
    "finally, DISCO using the same prior and posterior distributions as before, but\n",
    "now computing the Unscented Transform.\n",
    "\n",
    "We start by importing the required packages."
   ]
  },
  {
   "cell_type": "code",
   "execution_count": 16,
   "metadata": {},
   "outputs": [],
   "source": [
    "import math\n",
    "\n",
    "import matplotlib.pyplot as plt\n",
    "import torch as th\n",
    "from torch.distributions.uniform import Uniform\n",
    "\n",
    "from disco.controllers.amppi import AMPPI\n",
    "from disco.models.pendulum import PendulumModel\n",
    "from disco.utils.helper import run_simulation, import_mog, save_progress\n",
    "from disco.utils.utf import MerweScaledUTF"
   ]
  },
  {
   "cell_type": "markdown",
   "metadata": {
    "pycharm": {
     "name": "#%% md\n"
    }
   },
   "source": [
    "We also need to specify the cost function we'll use to evaluate performance.\n",
    "Note that in DISCO the cost function is split in 3 ways, a terminal cost,\n",
    "an instantaneous *state* cost and an instantaneous *control* cost.\n",
    "\n",
    "The control cost is inherently computed by the algorithm, however the other two\n",
    "functions are arguments we must pass to the controller."
   ]
  },
  {
   "cell_type": "code",
   "execution_count": 17,
   "metadata": {
    "pycharm": {
     "name": "#%%\n"
    }
   },
   "outputs": [],
   "source": [
    "def terminal_cost(states):\n",
    "    weight = th.tensor(0).float()\n",
    "    costs = th.zeros(states.shape[0])\n",
    "    return costs.where((states[:, 0] % 2 * PI).abs() < ONE_DEG, weight)\n",
    "\n",
    "def state_cost(states):\n",
    "    # Note that theta may range beyond 2*pi\n",
    "    theta, theta_d = states.chunk(2, dim=1)\n",
    "    return 50.0 * (theta.cos() - 1) ** 2 + 1.0 * theta_d ** 2"
   ]
  },
  {
   "cell_type": "markdown",
   "metadata": {},
   "source": [
    "Now let's setup the experiment hyperparameters:"
   ]
  },
  {
   "cell_type": "code",
   "execution_count": 18,
   "metadata": {
    "pycharm": {
     "name": "#%%\n"
    }
   },
   "outputs": [],
   "source": [
    "# Constants\n",
    "PI = math.pi\n",
    "ONE_DEG = 2 * PI / 360\n",
    "\n",
    "# Simulation setup\n",
    "ENV_NAME = \"Pendulum-v0\"\n",
    "ITERATIONS = 5\n",
    "INIT_STATE = th.tensor([math.pi, 0])  # pendulum down position\n",
    "RENDER = True\n",
    "SAVE = True\n",
    "\n",
    "# Parameters distributions, uniform prior and pre-trained MoG posterior\n",
    "PRIOR = Uniform(low=th.tensor([0.1, 0.1]), high=th.tensor([5.0, 5.0]))\n",
    "POSTERIOR = import_mog(\"../data/bayessim/pendulum_mog_L1.0_M1.0.p\")\n",
    "\n",
    "# Model hyperparamaters\n",
    "model_kwargs = {\n",
    "    \"length\": 1.0,  # true parameter\n",
    "    \"mass\": 1.0,  # true parameter\n",
    "}\n",
    "model = PendulumModel(**model_kwargs)\n",
    "\n",
    "# Control hyperparameters\n",
    "controller_kwargs = {\n",
    "    \"observation_space\": model.observation_space,\n",
    "    \"action_space\": model.action_space,\n",
    "    \"hz_len\": 30,  # control horizon\n",
    "    \"n_samples\": 500,  # sampled trajectories\n",
    "    \"lambda_\": 10.0,  # inverse temperature\n",
    "    \"a_cov\": th.eye(1),  # control exploration\n",
    "    \"inst_cost_fn\": state_cost,\n",
    "    \"term_cost_fn\": terminal_cost,\n",
    "}\n",
    "\n",
    "# UT hyperparameters\n",
    "ut_kwargs = {\"n\": 2, \"alpha\": 0.5}  # number of sigma points and scaling\n",
    "tf = MerweScaledUTF(**ut_kwargs)"
   ]
  },
  {
   "cell_type": "markdown",
   "metadata": {
    "pycharm": {
     "name": "#%% md\n"
    }
   },
   "source": [
    "Now let's define the test cases we want to cover:"
   ]
  },
  {
   "cell_type": "code",
   "execution_count": 19,
   "metadata": {
    "pycharm": {
     "name": "#%%\n"
    }
   },
   "outputs": [],
   "source": [
    "cases = {\n",
    "    \"baseline\": {\n",
    "        \"model\": {\"uncertain_params\": None, \"params_dist\": None},\n",
    "        \"controller\": {\"params_sampling\": \"none\"},\n",
    "        \"plot_kwargs\": {\n",
    "            \"color\": \"g\",\n",
    "            \"label\": r\"Ground-truth: $\\rho$\",\n",
    "        },\n",
    "    },\n",
    "#     \"mc_prior\": {\n",
    "#         \"model\": {\"uncertain_params\": (\"length\", \"mass\"), \"params_dist\": PRIOR},\n",
    "#         \"controller\": {\"params_sampling\": \"extended\"},\n",
    "#         \"plot_kwargs\": {\n",
    "#             \"color\": \"b\",\n",
    "#             \"label\": r\"MC: $\\rho \\sim \\mathcal{{U}}$\"\n",
    "#         },\n",
    "#     },\n",
    "#     \"ut_prior\": {\n",
    "#         \"model\": {\"uncertain_params\": (\"length\", \"mass\"), \"params_dist\": PRIOR},\n",
    "#         \"controller\": {\"params_sampling\": tf},\n",
    "#         \"plot_kwargs\": {\n",
    "#             \"color\": \"r\",\n",
    "#             \"label\": r\"UT: $\\rho \\sim \\mathcal{{U}}$\"\n",
    "#         },\n",
    "#     },\n",
    "#     \"mc_posterior\": {\n",
    "#         \"model\": {\n",
    "#             \"uncertain_params\": (\"length\", \"mass\"),\n",
    "#             \"params_dist\": POSTERIOR,\n",
    "#         },\n",
    "#         \"controller\": {\"params_sampling\": \"extended\"},\n",
    "#         \"plot_kwargs\": {\n",
    "#             \"color\": \"k\",\n",
    "#             \"label\": r\"MC: $\\rho \\sim MoG$\"\n",
    "#         },\n",
    "#     },\n",
    "#     \"ut_posterior\": {\n",
    "#         \"model\": {\n",
    "#             \"uncertain_params\": (\"length\", \"mass\"),\n",
    "#             \"params_dist\": POSTERIOR,\n",
    "#         },\n",
    "#         \"controller\": {\"params_sampling\": tf},\n",
    "#         \"plot_kwargs\": {\n",
    "#             \"color\": \"m\",\n",
    "#             \"label\": r\"UT: $\\rho \\sim MoG$\"\n",
    "#         },\n",
    "#     },\n",
    "}"
   ]
  },
  {
   "cell_type": "markdown",
   "metadata": {
    "pycharm": {
     "name": "#%% md\n"
    }
   },
   "source": [
    "And we are finally ready to run the simulation loop using the helper function:"
   ]
  },
  {
   "cell_type": "code",
   "execution_count": 20,
   "metadata": {
    "pycharm": {
     "name": "#%%\n"
    }
   },
   "outputs": [
    {
     "name": "stdout",
     "output_type": "stream",
     "text": [
      "Running baseline ...\n"
     ]
    },
    {
     "data": {
      "image/png": "[encoded data removed]",
      "text/plain": [
       "<Figure size 432x288 with 1 Axes>"
      ]
     },
     "metadata": {
      "needs_background": "light"
     },
     "output_type": "display_data"
    },
    {
     "name": "stdout",
     "output_type": "stream",
     "text": [
      "Data saved to: data/local/20200506-132628\n",
      "Done\n"
     ]
    },
    {
     "name": "stderr",
     "output_type": "stream",
     "text": [
      "/Users/lubaroli/miniconda3/envs/disco/lib/python3.7/site-packages/torch/storage.py:34: FutureWarning: pickle support for Storage will be removed in 1.5. Use `torch.save` instead\n",
      "  warnings.warn(\"pickle support for Storage will be removed in 1.5. Use `torch.save` instead\", FutureWarning)\n"
     ]
    }
   ],
   "source": [
    "data_dict = dict()\n",
    "fig, ax = plt.subplots()\n",
    "for case in cases.keys():\n",
    "    print(\"Running {} ...\".format(case))\n",
    "    model = PendulumModel(**model_kwargs, **cases[case][\"model\"])\n",
    "    controller = AMPPI(**controller_kwargs, **cases[case][\"controller\"])\n",
    "    if case == list(cases.keys())[-1]:  # last key\n",
    "        hold = False\n",
    "    else:\n",
    "        hold = True\n",
    "    sim_dict = run_simulation(\n",
    "        init_state=INIT_STATE,\n",
    "        episodes=ITERATIONS,\n",
    "        env_name=ENV_NAME,\n",
    "        controller=controller,\n",
    "        model=model,\n",
    "        verbose=False,\n",
    "        render=RENDER,\n",
    "        reuse_ax=ax,\n",
    "        hold=hold,\n",
    "        **cases[case][\"plot_kwargs\"]\n",
    "    )\n",
    "    data_dict[case] = sim_dict\n",
    "\n",
    "    if SAVE:\n",
    "        folder = save_progress(data=data_dict, fig=fig)\n",
    "        if folder is not None:\n",
    "            print(\"Data saved to: {}\".format(folder))\n",
    "    print(\"Done\")\n"
   ]
  },
  {
   "cell_type": "code",
   "execution_count": null,
   "metadata": {},
   "outputs": [],
   "source": []
  }
 ],
 "metadata": {
  "kernelspec": {
   "display_name": "Python [conda env:disco]",
   "language": "python",
   "name": "conda-env-disco-py"
  },
  "language_info": {
   "codemirror_mode": {
    "name": "ipython",
    "version": 3
   },
   "file_extension": ".py",
   "mimetype": "text/x-python",
   "name": "python",
   "nbconvert_exporter": "python",
   "pygments_lexer": "ipython3",
   "version": "3.7.7"
  }
 },
 "nbformat": 4,
 "nbformat_minor": 1
}